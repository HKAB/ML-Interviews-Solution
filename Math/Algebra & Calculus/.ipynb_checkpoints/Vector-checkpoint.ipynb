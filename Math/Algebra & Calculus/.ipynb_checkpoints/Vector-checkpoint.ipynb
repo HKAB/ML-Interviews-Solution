{
 "cells": [
  {
   "cell_type": "markdown",
   "id": "cea077e3-ed05-4913-b101-629b54fc5280",
   "metadata": {},
   "source": [
    "# Vectors"
   ]
  },
  {
   "cell_type": "markdown",
   "id": "01413845-2c9d-46a2-b5a7-95f1fca886a6",
   "metadata": {},
   "source": [
    "Resource for quick refresh: [Elementary Linear Algebra](http://www.astronomia.edu.uy/progs/algebra/Larson%20-%20Edwards%20y%20Falvo%20Elementary%20Linear%20Algebra.pdf), [Calculus early transcendentals](https://www.amazon.com/Calculus-Early-Transcendentals-James-Stewart/dp/1285741552)"
   ]
  },
  {
   "cell_type": "markdown",
   "id": "6c724275-37a5-4800-a3c9-1983e6df2ab6",
   "metadata": {},
   "source": [
    "## Dot product"
   ]
  },
  {
   "cell_type": "markdown",
   "id": "02fd40fe-d3ad-4371-83a5-a3e8390dd1d6",
   "metadata": {},
   "source": [
    "The dot product between u and v is"
   ]
  },
  {
   "cell_type": "markdown",
   "id": "52598a2a-9123-42bf-a835-c212b76d205b",
   "metadata": {},
   "source": [
    "\\begin{align} u\\cdot v=\\| u\\| \\ \\| v\\| \\ \\cos( \\theta ) \\end{align}"
   ]
  },
  {
   "cell_type": "markdown",
   "id": "7c7e58f6-7237-4ea5-9d11-50af57bf57e9",
   "metadata": {},
   "source": [
    "The dot product give us a scalar. A quick look can gave us insight that dot product has something to do with the angle between them. || u || * cos(theta) represent the magnitude of the vector u when projected to v. So the dot product is the times of two magnitude of two vector pointing at the same direction (direction of v)."
   ]
  },
  {
   "cell_type": "markdown",
   "id": "96153e12-7288-4131-942c-f10f0a81655b",
   "metadata": {},
   "source": [
    "Additional material: [Wolframalpha](https://mathworld.wolfram.com/DotProduct.html)"
   ]
  },
  {
   "cell_type": "markdown",
   "id": "d5f526df-f8d5-41da-bea7-51f9ad9e30ba",
   "metadata": {},
   "source": [
    "The dot product is maximum when cos(theta) = 1. So the v is the unit vector of u:"
   ]
  },
  {
   "cell_type": "markdown",
   "id": "54de5f65-9bbb-4595-9774-9e89fd1184d5",
   "metadata": {},
   "source": [
    "\\begin{align} v=\\ \\frac{u}{\\| u\\| } \\end{align}"
   ]
  }
 ],
 "metadata": {
  "kernelspec": {
   "display_name": "Python 3",
   "language": "python",
   "name": "python3"
  },
  "language_info": {
   "codemirror_mode": {
    "name": "ipython",
    "version": 3
   },
   "file_extension": ".py",
   "mimetype": "text/x-python",
   "name": "python",
   "nbconvert_exporter": "python",
   "pygments_lexer": "ipython3",
   "version": "3.6.13"
  }
 },
 "nbformat": 4,
 "nbformat_minor": 5
}
